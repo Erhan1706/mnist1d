{
 "cells": [
  {
   "cell_type": "code",
   "execution_count": 4,
   "id": "733c5564",
   "metadata": {
    "scrolled": true
   },
   "outputs": [],
   "source": [
    "!python -m pip install git+https://github.com/greydanus/mnist1d.git@master"
   ]
  },
  {
   "cell_type": "code",
   "execution_count": 2,
   "id": "87fa18b4-7d57-46e5-aa42-694ac83ef4e6",
   "metadata": {},
   "outputs": [
    {
     "data": {
      "text/plain": [
       "((4000, 40), (4000,), (40,))"
      ]
     },
     "execution_count": 2,
     "metadata": {},
     "output_type": "execute_result"
    }
   ],
   "source": [
    "from mnist1d.data import make_dataset, get_dataset_args\n",
    "\n",
    "defaults = get_dataset_args()\n",
    "data = make_dataset(defaults)\n",
    "x,y,t = data['x'], data['y'], data['t']\n",
    "\n",
    "x.shape, y.shape, t.shape"
   ]
  },
  {
   "cell_type": "code",
   "execution_count": 3,
   "id": "64f2699a-9642-4b5e-92a0-a13f0460b23e",
   "metadata": {},
   "outputs": [],
   "source": [
    "assert x.shape[0] == y.shape[0]"
   ]
  },
  {
   "cell_type": "code",
   "execution_count": null,
   "id": "8c0adc3c",
   "metadata": {},
   "outputs": [],
   "source": []
  }
 ],
 "metadata": {
  "kernelspec": {
   "display_name": "Python 3 (ipykernel)",
   "language": "python",
   "name": "python3"
  },
  "language_info": {
   "codemirror_mode": {
    "name": "ipython",
    "version": 3
   },
   "file_extension": ".py",
   "mimetype": "text/x-python",
   "name": "python",
   "nbconvert_exporter": "python",
   "pygments_lexer": "ipython3",
   "version": "3.9.18"
  }
 },
 "nbformat": 4,
 "nbformat_minor": 5
}
